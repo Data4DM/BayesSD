{
 "cells": [
  {
   "cell_type": "markdown",
   "id": "f6052052-be3a-45bf-b15d-2bea34f37a8f",
   "metadata": {
    "tags": []
   },
   "source": [
    "# Reg GAN"
   ]
  },
  {
   "cell_type": "code",
   "execution_count": null,
   "id": "0e639c70-abe4-4adf-b369-367324db6680",
   "metadata": {},
   "outputs": [
    {
     "name": "stdout",
     "output_type": "stream",
     "text": [
      "Collecting https://github.com/tslearn-team/tslearn/archive/main.zip\n",
      "  Downloading https://github.com/tslearn-team/tslearn/archive/main.zip\n",
      "\u001b[2K     \u001b[32m\\\u001b[0m \u001b[32m3.0 MB\u001b[0m \u001b[31m67.5 kB/s\u001b[0m \u001b[33m0:00:44\u001b[0m0m\n",
      "\u001b[?25h  Installing build dependencies ... \u001b[?25ldone\n",
      "\u001b[?25h  Getting requirements to build wheel ... \u001b[?25ldone\n",
      "\u001b[?25h  Preparing metadata (pyproject.toml) ... \u001b[?25ldone\n",
      "\u001b[?25hRequirement already satisfied: Cython in /Users/hyunjimoon/opt/miniconda3/envs/tensorflow/lib/python3.9/site-packages (from tslearn==0.5.2) (0.29.32)\n",
      "Collecting numba\n",
      "  Downloading numba-0.56.0-cp39-cp39-macosx_11_0_arm64.whl (2.4 MB)\n",
      "\u001b[2K     \u001b[38;2;114;156;31m━━━━━━━━━━━━━━━━━━━━━━━━━━━━━━━━━━━━━━━━\u001b[0m \u001b[32m2.4/2.4 MB\u001b[0m \u001b[31m64.6 kB/s\u001b[0m eta \u001b[36m0:00:00\u001b[0mm eta \u001b[36m0:00:01\u001b[0m[36m0:00:02\u001b[0m\n",
      "\u001b[?25hRequirement already satisfied: joblib in /Users/hyunjimoon/opt/miniconda3/envs/tensorflow/lib/python3.9/site-packages (from tslearn==0.5.2) (1.1.0)\n",
      "Requirement already satisfied: scipy in /Users/hyunjimoon/opt/miniconda3/envs/tensorflow/lib/python3.9/site-packages (from tslearn==0.5.2) (1.9.0)\n",
      "Requirement already satisfied: scikit-learn in /Users/hyunjimoon/opt/miniconda3/envs/tensorflow/lib/python3.9/site-packages (from tslearn==0.5.2) (1.1.2)\n",
      "Requirement already satisfied: numpy in /Users/hyunjimoon/opt/miniconda3/envs/tensorflow/lib/python3.9/site-packages (from tslearn==0.5.2) (1.22.4)\n",
      "Requirement already satisfied: setuptools in /Users/hyunjimoon/opt/miniconda3/envs/tensorflow/lib/python3.9/site-packages (from numba->tslearn==0.5.2) (65.0.2)\n",
      "Collecting llvmlite<0.40,>=0.39.0dev0\n",
      "  Downloading llvmlite-0.39.0-cp39-cp39-macosx_11_0_arm64.whl (23.1 MB)\n",
      "\u001b[2K     \u001b[38;2;114;156;31m━━━━━━━━━━━━━━━━━━━━━━━━━━━━━━━━━━━━━━━━\u001b[0m \u001b[32m23.1/23.1 MB\u001b[0m \u001b[31m71.7 kB/s\u001b[0m eta \u001b[36m0:00:00\u001b[0mm eta \u001b[36m0:00:01\u001b[0m[36m0:00:09\u001b[0m\n",
      "\u001b[?25hRequirement already satisfied: threadpoolctl>=2.0.0 in /Users/hyunjimoon/opt/miniconda3/envs/tensorflow/lib/python3.9/site-packages (from scikit-learn->tslearn==0.5.2) (3.1.0)\n",
      "Building wheels for collected packages: tslearn\n",
      "  Building wheel for tslearn (pyproject.toml) ... \u001b[?25ldone\n",
      "\u001b[?25h  Created wheel for tslearn: filename=tslearn-0.5.2-cp39-cp39-macosx_11_0_arm64.whl size=355516 sha256=c223572ca1196d42ee744694997fa614b4790f03e0f2544213482e388fd93502\n",
      "  Stored in directory: /private/var/folders/4j/8mx5dnzd1p34_5y5r19b4g5m0000gn/T/pip-ephem-wheel-cache-dbbquv6t/wheels/46/ae/76/45bf2e989e5ef22b76c70e43c48a587f36d02d63c8ded68a12\n",
      "Successfully built tslearn\n",
      "Installing collected packages: llvmlite, numba, tslearn\n",
      "Successfully installed llvmlite-0.39.0 numba-0.56.0 tslearn-0.5.2\n"
     ]
    }
   ],
   "source": [
    "!python -m pip install https://github.com/tslearn-team/tslearn/archive/main.zip"
   ]
  },
  {
   "cell_type": "code",
   "execution_count": null,
   "id": "1159523b-027e-4460-826a-f9d4c3ec25ca",
   "metadata": {
    "id": "ifpvZjWZo3qb"
   },
   "outputs": [],
   "source": [
    "import numpy as np\n",
    "import pandas as pd\n",
    "from pandas_datareader import data as pdr\n",
    "import yfinance as yf\n",
    "from datetime import datetime\n",
    "# Move to GeomPrior/aria `pip install -e ./`\n",
    "import aria \n",
    "from aria.components.dataframe_regressor import DataFrameRegressor\n",
    "from aria.components.fourier_seasonality import FourierSeasonality\n",
    "from aria.components.linear_trend import LinearTrend\n",
    "from aria.components.linear_trend_changepoints import LinearTrendChangepoints\n",
    "from aria.datasets.example import load_data\n",
    "from aria.models.forward_stepwise_selector import ForwardStepwiseSelector\n",
    "from aria.models.linear_lasso import LinearLassoModel\n",
    "from aria.models.linear_ridge import LinearRidgeModel\n",
    "from aria.utils.evaluation import smape, bic\n",
    "from scipy.spatial.distance import cdist\n",
    "import matplotlib.pyplot as plt\n",
    "from tslearn import metrics \n",
    "#!python -m pip install cython\n",
    "#!conda config --set channel_priority false\n",
    "#!python -m pip install https://github.com/tslearn-team/tslearn/archive/main.zip\n",
    "#conda install -c conda-forge lxm\n",
    "numpy.random.seed(0)"
   ]
  },
  {
   "cell_type": "code",
   "execution_count": 6,
   "id": "0285c94d-fda9-432d-81d4-1d6f35dc4020",
   "metadata": {
    "id": "r3htnJqfhy4G"
   },
   "outputs": [],
   "source": [
    "def download_prices_from_yf(ticker, start_date, end_date, label_list):\n",
    "    yf.pdr_override()\n",
    "    start_date = datetime.strptime(start_date, '%Y-%m-%d')\n",
    "    end_date = datetime.strptime(end_date, '%Y-%m-%d')\n",
    "    return pdr.get_data_yahoo(ticker, start_date, end_date)[label_list]"
   ]
  },
  {
   "cell_type": "markdown",
   "id": "6feffb4f-5246-4f02-8b58-b7781cec3ecd",
   "metadata": {},
   "source": [
    "## Real data"
   ]
  },
  {
   "cell_type": "code",
   "execution_count": 7,
   "id": "a89f4cea-b459-41cb-bc51-eff3f6ec4c6e",
   "metadata": {
    "id": "Wet7q8VxmHUj"
   },
   "outputs": [
    {
     "name": "stdout",
     "output_type": "stream",
     "text": [
      "[*********************100%***********************]  1 of 1 completed\n"
     ]
    }
   ],
   "source": [
    "sp500 = download_prices_from_yf(start_date='2009-05-01', end_date='2021-01-01',\n",
    "              ticker='^GSPC', label_list=['Adj Close'])\n",
    "real_close = sp500['Adj Close']\n",
    "real_return = np.log(real_close).diff().dropna()\n",
    "real_mean = real_return.mean()\n",
    "real_std = real_return.std()\n",
    "standard_return = (real_return-real_mean)/real_std\n",
    "sequence_data = np.asarray(standard_return) \n",
    "\n",
    "scaled_sp500_diff = sp500.rename(columns = {\"Date\":\"ds\", \"Adj Close\": \"y\"}).iloc[1:, :]\n",
    "scaled_sp500_diff.reset_index(inplace = True)\n",
    "scaled_sp500_diff.rename(columns = {\"Date\":\"ds\", \"y\":\"y\"}, inplace = True)\n",
    "scaled_sp500_diff['y'] = sequence_data\n",
    "df = scaled_sp500_diff"
   ]
  },
  {
   "cell_type": "markdown",
   "id": "95d8677d-60cc-4704-bfc3-5fcea988aa7f",
   "metadata": {},
   "source": [
    "## TS decomposition"
   ]
  },
  {
   "cell_type": "code",
   "execution_count": 11,
   "id": "c2e53812-6839-4013-99ce-7155fac95c1e",
   "metadata": {
    "id": "RzG7cHtgo3qc"
   },
   "outputs": [
    {
     "name": "stdout",
     "output_type": "stream",
     "text": [
      "RIDGE\n",
      "SMAPE 1.7181945029369528\n",
      "Lasso\n",
      "SMAPE 2.0\n",
      "w.o.trendchangpoint\n",
      "SMAPE 1.7246242378411143\n"
     ]
    }
   ],
   "source": [
    "n = int(df.shape[0] * 0.8)\n",
    "train_df, test_df = df.iloc[:n], df.iloc[n:]\n",
    "\n",
    "components = [\n",
    "    LinearTrend(),\n",
    "    LinearTrendChangepoints(),\n",
    "    FourierSeasonality(7, 3),\n",
    "    FourierSeasonality(30.4375, 5),\n",
    "    FourierSeasonality(365.25, 10),\n",
    "]\n",
    "\n",
    "components2 = [\n",
    "    LinearTrend(),\n",
    "    FourierSeasonality(7, 3),\n",
    "    FourierSeasonality(30.4375, 5),\n",
    "    FourierSeasonality(365.25, 10),\n",
    "]\n",
    "print('RIDGE') \n",
    "m = LinearRidgeModel(components=components) \n",
    "m.fit(train_df)\n",
    "#print(pd.DataFrame(index=m1.get_features_list(), data=m1.get_params()))\n",
    "print('SMAPE', smape(test_df['y'], m.predict(test_df)['yhat']))\n",
    "\n",
    "print('Lasso') \n",
    "m1 = LinearLassoModel(components=components)\n",
    "m1.fit(train_df)\n",
    "#print(pd.DataFrame(index=m2.get_features_list(), data=m2.get_params()))\n",
    "print('SMAPE', smape(test_df['y'], m1.predict(test_df)['yhat']))\n",
    "\n",
    "print('w.o.trendchangpoint') \n",
    "m2 = LinearRidgeModel(components=components2)\n",
    "m2.fit(train_df)\n",
    "#print(pd.DataFrame(index=m2.get_features_list(), data=m2.get_params()))\n",
    "print('SMAPE', smape(test_df['y'], m2.predict(test_df)['yhat']))"
   ]
  },
  {
   "cell_type": "markdown",
   "id": "0cb56c84-1a1f-433d-88f3-04819c39455b",
   "metadata": {
    "id": "eIxGtn2yo3qc"
   },
   "source": [
    "- Ridge (normal prior) has a lower SMAPE (1.71 vs 1.77) than Lasso.\n",
    "- With changepoints has a lower SMAPE (1.718 vs 1.724) than without."
   ]
  },
  {
   "cell_type": "code",
   "execution_count": 40,
   "id": "10a5bd20-007d-435e-a30e-c1a343259050",
   "metadata": {
    "id": "zDERsSiHo3qc"
   },
   "outputs": [
    {
     "data": {
      "text/plain": [
       "array([[<AxesSubplot:title={'center':'coef'}>]], dtype=object)"
      ]
     },
     "execution_count": 40,
     "metadata": {},
     "output_type": "execute_result"
    },
    {
     "data": {
      "image/png": "[encoded data removed]",
      "text/plain": [
       "<Figure size 640x480 with 1 Axes>"
      ]
     },
     "metadata": {},
     "output_type": "display_data"
    }
   ],
   "source": [
    "m_coef = pd.DataFrame({\"feature\": m.get_features_list(), \"coef\": m.get_params()})\n",
    "season_coef = m_coef[m_coef.feature.str.contains('FS')]\n",
    "season_coef.hist()"
   ]
  },
  {
   "cell_type": "markdown",
   "id": "76e45ffb-fe89-44c4-a980-5171c9066a3f",
   "metadata": {},
   "source": [
    "\n",
    "## Will be doing (after 08/19): TS clustering"
   ]
  },
  {
   "cell_type": "code",
   "execution_count": 41,
   "id": "13aee934-15c1-44b8-9374-54c844eb229b",
   "metadata": {},
   "outputs": [
    {
     "name": "stdout",
     "output_type": "stream",
     "text": [
      "Collecting package metadata (current_repodata.json): done\n",
      "Solving environment: failed with initial frozen solve. Retrying with flexible solve.\n",
      "Collecting package metadata (repodata.json): done\n",
      "Solving environment: failed with initial frozen solve. Retrying with flexible solve.\n",
      "\n",
      "PackagesNotFoundError: The following packages are not available from current channels:\n",
      "\n",
      "  - ists\n",
      "\n",
      "Current channels:\n",
      "\n",
      "  - https://repo.anaconda.com/pkgs/main/osx-arm64\n",
      "  - https://repo.anaconda.com/pkgs/main/noarch\n",
      "  - https://repo.anaconda.com/pkgs/r/osx-arm64\n",
      "  - https://repo.anaconda.com/pkgs/r/noarch\n",
      "\n",
      "To search for alternate channels that may provide the conda package you're\n",
      "looking for, navigate to\n",
      "\n",
      "    https://anaconda.org\n",
      "\n",
      "and use the search bar at the top of the page.\n",
      "\n",
      "\n"
     ]
    }
   ],
   "source": [
    "!conda install ists"
   ]
  },
  {
   "cell_type": "code",
   "execution_count": null,
   "id": "aa63b7de-f3c9-44f1-953c-8b962d3533cf",
   "metadata": {},
   "outputs": [],
   "source": [
    "s_x = numpy.array(\n",
    "    [-0.790, -0.765, -0.734, -0.700, -0.668, -0.639, -0.612, -0.587, -0.564,\n",
    "     -0.544, -0.529, -0.518, -0.509, -0.502, -0.494, -0.488, -0.482, -0.475,\n",
    "     -0.472, -0.470, -0.465, -0.464, -0.461, -0.458, -0.459, -0.460, -0.459,\n",
    "     -0.458, -0.448, -0.431, -0.408, -0.375, -0.333, -0.277, -0.196, -0.090,\n",
    "     0.047, 0.220, 0.426, 0.671, 0.962, 1.300, 1.683, 2.096, 2.510, 2.895,\n",
    "     3.219, 3.463, 3.621, 3.700, 3.713, 3.677, 3.606, 3.510, 3.400, 3.280,\n",
    "     3.158, 3.038, 2.919, 2.801, 2.676, 2.538, 2.382, 2.206, 2.016, 1.821,\n",
    "     1.627, 1.439, 1.260, 1.085, 0.917, 0.758, 0.608, 0.476, 0.361, 0.259,\n",
    "     0.173, 0.096, 0.027, -0.032, -0.087, -0.137, -0.179, -0.221, -0.260,\n",
    "     -0.293, -0.328, -0.359, -0.385, -0.413, -0.437, -0.458, -0.480, -0.498,\n",
    "     -0.512, -0.526, -0.536, -0.544, -0.552, -0.556, -0.561, -0.565, -0.568,\n",
    "     -0.570, -0.570, -0.566, -0.560, -0.549, -0.532, -0.510, -0.480, -0.443,\n",
    "     -0.402, -0.357, -0.308, -0.256, -0.200, -0.139, -0.073, -0.003, 0.066,\n",
    "     0.131, 0.186, 0.229, 0.259, 0.276, 0.280, 0.272, 0.256, 0.234, 0.209,\n",
    "     0.186, 0.162, 0.139, 0.112, 0.081, 0.046, 0.008, -0.032, -0.071, -0.110,\n",
    "     -0.147, -0.180, -0.210, -0.235, -0.256, -0.275, -0.292, -0.307, -0.320,\n",
    "     -0.332, -0.344, -0.355, -0.363, -0.367, -0.364, -0.351, -0.330, -0.299,\n",
    "     -0.260, -0.217, -0.172, -0.128, -0.091, -0.060, -0.036, -0.022, -0.016,\n",
    "     -0.020, -0.037, -0.065, -0.104, -0.151, -0.201, -0.253, -0.302, -0.347,\n",
    "     -0.388, -0.426, -0.460, -0.491, -0.517, -0.539, -0.558, -0.575, -0.588,\n",
    "     -0.600, -0.606, -0.607, -0.604, -0.598, -0.589, -0.577, -0.558, -0.531,\n",
    "     -0.496, -0.454, -0.410, -0.364, -0.318, -0.276, -0.237, -0.203, -0.176,\n",
    "     -0.157, -0.145, -0.142, -0.145, -0.154, -0.168, -0.185, -0.206, -0.230,\n",
    "     -0.256, -0.286, -0.318, -0.351, -0.383, -0.414, -0.442, -0.467, -0.489,\n",
    "     -0.508, -0.523, -0.535, -0.544, -0.552, -0.557, -0.560, -0.560, -0.557,\n",
    "     -0.551, -0.542, -0.531, -0.519, -0.507, -0.494, -0.484, -0.476, -0.469,\n",
    "     -0.463, -0.456, -0.449, -0.442, -0.435, -0.431, -0.429, -0.430, -0.435,\n",
    "     -0.442, -0.452, -0.465, -0.479, -0.493, -0.506, -0.517, -0.526, -0.535,\n",
    "     -0.548, -0.567, -0.592, -0.622, -0.655, -0.690, -0.728, -0.764, -0.795,\n",
    "     -0.815, -0.823, -0.821])\n",
    "\n",
    "s_y1 = numpy.concatenate((s_x, s_x)).reshape((-1, 1))\n",
    "s_y2 = numpy.concatenate((s_x, s_x[::-1])).reshape((-1, 1))\n",
    "sz = s_y1.shape[0]\n",
    "\n",
    "path, sim = metrics.dtw_path(s_y1, s_y2)\n",
    "\n",
    "plt.figure(1, figsize=(8, 8))\n",
    "\n",
    "# definitions for the axes\n",
    "left, bottom = 0.01, 0.1\n",
    "w_ts = h_ts = 0.2\n",
    "left_h = left + w_ts + 0.02\n",
    "width = height = 0.65\n",
    "bottom_h = bottom + height + 0.02\n",
    "\n",
    "rect_s_y = [left, bottom, w_ts, height]\n",
    "rect_gram = [left_h, bottom, width, height]\n",
    "rect_s_x = [left_h, bottom_h, width, h_ts]\n",
    "\n",
    "ax_gram = plt.axes(rect_gram)\n",
    "ax_s_x = plt.axes(rect_s_x)\n",
    "ax_s_y = plt.axes(rect_s_y)\n",
    "\n",
    "mat = cdist(s_y1, s_y2)\n",
    "\n",
    "ax_gram.imshow(mat, origin='lower')\n",
    "ax_gram.axis(\"off\")\n",
    "ax_gram.autoscale(False)\n",
    "ax_gram.plot([j for (i, j) in path], [i for (i, j) in path], \"w-\",\n",
    "             linewidth=3.)\n",
    "\n",
    "ax_s_x.plot(numpy.arange(sz), s_y2, \"b-\", linewidth=3.)\n",
    "ax_s_x.axis(\"off\")\n",
    "ax_s_x.set_xlim((0, sz - 1))\n",
    "\n",
    "ax_s_y.plot(- s_y1, numpy.arange(sz), \"b-\", linewidth=3.)\n",
    "ax_s_y.axis(\"off\")\n",
    "ax_s_y.set_ylim((0, sz - 1))\n",
    "\n",
    "plt.tight_layout()\n",
    "plt.show()"
   ]
  },
  {
   "cell_type": "code",
   "execution_count": 12,
   "id": "4d485be0-19c6-4dc3-bfe7-6a6723de749c",
   "metadata": {
    "id": "3t5ibNo05jCB"
   },
   "outputs": [],
   "source": [
    "def train_step_raw(images, generator, discriminator, generator_optimizer, discriminator_optimizer, choice, pre_trained=None):\n",
    "    noise = tf.random.normal((images.shape[0],) + generator.input_shape[1:])\n",
    "\n",
    "    with tf.GradientTape() as disc_tape:\n",
    "      generated_images = generator(noise, training=True)\n",
    "\n",
    "      real_output = discriminator(images, training=True)\n",
    "      fake_output = discriminator(generated_images, training=True)\n",
    "\n",
    "      if choice == 'wgan_gp':\n",
    "        disc_loss = discriminator_loss(real_output, fake_output, choice, generated_images = generated_images, images= images, discriminator=discriminator)\n",
    "      else:\n",
    "        disc_loss = discriminator_loss(real_output, fake_output, choice)\n",
    "\n",
    "    gradients_of_discriminator = disc_tape.gradient(disc_loss, discriminator.trainable_variables)   \n",
    "    discriminator_optimizer.apply_gradients(zip(gradients_of_discriminator, discriminator.trainable_variables))\n",
    "\n",
    "    noise = tf.random.normal((images.shape[0],) + generator.input_shape[1:])\n",
    "\n",
    "    with tf.GradientTape() as gen_tape, tf.GradientTape() as disc_tape:\n",
    "      generated_images = generator(noise, training=True)\n",
    "\n",
    "      fake_output = discriminator(generated_images, training=True)\n",
    "\n",
    "      gen_loss = generator_loss(fake_output, choice)\n",
    "\n",
    "      if pre_trained is not None: \n",
    "        pre_trained_output = pre_trained(generated_images, training=True) # 0 or 1 from D2\n",
    "        gen_loss += generator_loss(pre_trained_output, choice)\n",
    "\n",
    "    gradients_of_generator = gen_tape.gradient(gen_loss, generator.trainable_variables)     \n",
    "    generator_optimizer.apply_gradients(zip(gradients_of_generator, generator.trainable_variables))\n",
    "    \n",
    "    return gen_loss, disc_loss"
   ]
  },
  {
   "cell_type": "code",
   "execution_count": 13,
   "id": "3e4c25ce-481f-4603-95f4-5d59312a3617",
   "metadata": {
    "id": "2M7LmLtGEMQJ"
   },
   "outputs": [],
   "source": [
    "def train(dataset, batchsize, generator, discriminator, G_opt, D_opt, test, epochs, choice, pre_trained=None):\n",
    "  train_step = tf.function(train_step_raw)\n",
    "  dataset = dataset.astype('float32')\n",
    "  image_batch = tf.Variable(initial_value=np.zeros((batchsize,)+dataset.shape[1:]), trainable=False, dtype='float32')\n",
    "  datasize = dataset.shape[0]\n",
    "\n",
    "  for epoch in range(epochs):\n",
    "    start = time.time()\n",
    "\n",
    "    G_list = []; D_list = []\n",
    "\n",
    "    for i in range(datasize//batchsize):\n",
    "      image_batch.assign(dataset[np.random.choice(datasize, size=batchsize, replace=False)])\n",
    "      gen_loss, disc_loss = train_step(image_batch, generator, discriminator, G_opt, D_opt, choice, pre_trained)\n",
    "      G_list.append(gen_loss)\n",
    "      D_list.append(disc_loss) \n",
    "\n",
    "    G_loss.append(np.mean(G_list))\n",
    "    D_loss.append(np.mean(D_list))\n",
    "\n",
    "    for fun, seed in test:\n",
    "      fun(generator, epoch + 1, seed) \n",
    "\n",
    "    print ('Time for epoch {} is {} sec'.format(epoch + 1, time.time()-start))"
   ]
  },
  {
   "cell_type": "markdown",
   "id": "dea1fca1-1007-4952-9c84-a0ca8f0c585b",
   "metadata": {
    "id": "WOQugGsshKG0"
   },
   "source": [
    "## Quant GAN"
   ]
  },
  {
   "cell_type": "code",
   "execution_count": 15,
   "id": "3e699ecf-5c9f-4c7b-8485-c1e1077cc3b7",
   "metadata": {
    "id": "agB6IdCmWbkF"
   },
   "outputs": [],
   "source": [
    "# official\n",
    "\n",
    "prelu_kwargs = {'alpha_initializer':tf.keras.initializers.Constant(value=0.25), 'shared_axes':[1,2]}\n",
    "\n",
    "def TemporalBlock(x, skip, output_dim, hidden_dim_skip, kernel_size, dilation, num_inner_blocks=2, batch_norm=False, **kwargs):\n",
    "    drop_left = num_inner_blocks * (kernel_size - 1) * dilation\n",
    "    in_dim = x.shape[-1]\n",
    "\n",
    "    x_0 = x\n",
    "\n",
    "    for i in range(num_inner_blocks):\n",
    "      init = tf.keras.initializers.RandomUniform(minval=-1/np.sqrt(x.shape[2]*kernel_size), maxval=1/np.sqrt(x.shape[2]*kernel_size))\n",
    "      inits = {'kernel_initializer': init, 'bias_initializer': init}\n",
    "      x = tfa.layers.SpectralNormalization(layers.Conv1D(output_dim, kernel_size, strides=1, \n",
    "                                                       padding='valid', dilation_rate=dilation, **inits, **kwargs))(x)\n",
    "      x = layers.PReLU(**prelu_kwargs)(x) \n",
    "      if batch_norm:\n",
    "        x = layers.BatchNormalization()(x)\n",
    "    \n",
    "    if in_dim != output_dim: \n",
    "      init = tf.keras.initializers.RandomUniform(minval=-1/np.sqrt(x_0.shape[2]*1), maxval=1/np.sqrt(x_0.shape[2]*1))\n",
    "      inits = {'kernel_initializer': init, 'bias_initializer': init}\n",
    "      x_0 = tfa.layers.SpectralNormalization(layers.Conv1D(output_dim, 1, strides=1, padding='same', **inits, **kwargs))(x_0) \n",
    "    \n",
    "    x = x + x_0[:,drop_left:]\n",
    "    init = tf.keras.initializers.RandomUniform(minval=-1/np.sqrt(x.shape[2]*1), maxval=1/np.sqrt(x.shape[2]*1))\n",
    "    inits = {'kernel_initializer': init, 'bias_initializer': init}\n",
    "    skip = skip + tfa.layers.SpectralNormalization(layers.Conv1D(hidden_dim_skip, 1, strides=1, padding='same', **inits, **kwargs))(x[:, -skip.shape[1]:])\n",
    "    \n",
    "    return layers.PReLU(**prelu_kwargs)(x), skip\n",
    "\n",
    "def TCN(x, output_dim, hidden_dims, hidden_dim_skip=50, \n",
    "        kernel_size=2, num_inner_blocks=2, dilation_factor=2, batch_norm=False, **kwargs):\n",
    "    drop_left =  sum(num_inner_blocks * (kernel_size - 1) * dilation_factor**min(i,6) for i in range(len(hidden_dims)))\n",
    "    skip = tf.zeros([tf.shape(x)[0], x.shape[1] - drop_left, hidden_dim_skip])\n",
    "    \n",
    "    x, skip = TemporalBlock(x, skip, hidden_dims[0], hidden_dim_skip, 1, 1, num_inner_blocks=2, batch_norm=batch_norm, **kwargs)\n",
    "    for i, h in enumerate(hidden_dims):\n",
    "        x, skip = TemporalBlock(x, skip, h, hidden_dim_skip, kernel_size, dilation_factor**min(i,6), num_inner_blocks=2, batch_norm=batch_norm, **kwargs)\n",
    "    \n",
    "    y = layers.PReLU(**prelu_kwargs)(skip) \n",
    "    init = tf.keras.initializers.RandomUniform(minval=-1/np.sqrt(y.shape[2]*1), maxval=1/np.sqrt(y.shape[2]*1))\n",
    "    inits = {'kernel_initializer': init, 'bias_initializer': init}\n",
    "    y = tfa.layers.SpectralNormalization(layers.Conv1D(hidden_dim_skip, 1, strides=1, padding='same', **inits, **kwargs))(y) \n",
    "    y = layers.PReLU(**prelu_kwargs)(y) \n",
    "    y = tfa.layers.SpectralNormalization(layers.Conv1D(output_dim, 1, strides=1, padding='same', **inits, **kwargs))(y) \n",
    "    return y"
   ]
  }
 ],
 "metadata": {
  "kernelspec": {
   "display_name": "Python 3.9 (tensorflow)",
   "language": "python",
   "name": "tensorflow"
  },
  "language_info": {
   "codemirror_mode": {
    "name": "ipython",
    "version": 3
   },
   "file_extension": ".py",
   "mimetype": "text/x-python",
   "name": "python",
   "nbconvert_exporter": "python",
   "pygments_lexer": "ipython3",
   "version": "3.9.13"
  }
 },
 "nbformat": 4,
 "nbformat_minor": 5
}
