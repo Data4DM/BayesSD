{
 "cells": [
  {
   "cell_type": "code",
   "execution_count": 4,
   "id": "ebcd13bd",
   "metadata": {
    "pycharm": {
     "name": "#%%\n"
    }
   },
   "outputs": [],
   "source": [
    "import pysd\n",
    "import numpy as np\n",
    "import scipy.optimize\n",
    "import math\n",
    "import pandas as pd\n",
    "import random\n",
    "random.seed(100)\n",
    "from sklearn.preprocessing import StandardScaler\n",
    "import matplotlib.pyplot as plt\n",
    "%matplotlib inline"
   ]
  },
  {
   "cell_type": "markdown",
   "id": "038c3834",
   "metadata": {
    "pycharm": {
     "name": "#%% md\n"
    }
   },
   "source": [
    "# model loading"
   ]
  },
  {
   "cell_type": "code",
   "execution_count": 5,
   "id": "3dff0dea",
   "metadata": {
    "pycharm": {
     "name": "#%%\n"
    }
   },
   "outputs": [],
   "source": [
    "#model = pysd.read_vensim('vensim_models/mngChain/mngChain_wolookup2.mdl')\n",
    "model_gen = pysd.read_vensim('vensim_models/optimization/InventoryManagementWeek5-Generator.mdl')\n",
    "model_est = pysd.read_vensim('vensim_models/optimization/InventoryManagementWeek5-Estimator.mdl')\n",
    "data_gen = model_gen.run()\n",
    "data_est = model_est.run()"
   ]
  },
  {
   "cell_type": "code",
   "execution_count": 6,
   "outputs": [
    {
     "data": {
      "text/plain": "          FINAL TIME  INITIAL TIME  SAVEPER  TIME STEP  \\\n0.0000           100             0   0.0625     0.0625   \n0.0625           100             0   0.0625     0.0625   \n0.1250           100             0   0.0625     0.0625   \n0.1875           100             0   0.0625     0.0625   \n0.2500           100             0   0.0625     0.0625   \n...              ...           ...      ...        ...   \n99.7500          100             0   0.0625     0.0625   \n99.8125          100             0   0.0625     0.0625   \n99.8750          100             0   0.0625     0.0625   \n99.9375          100             0   0.0625     0.0625   \n100.0000         100             0   0.0625     0.0625   \n\n          Noise Standard Deviation  White Noise  \\\n0.0000                           1   -14.630996   \n0.0625                           1   -14.630996   \n0.1250                           1   -14.630996   \n0.1875                           1   -14.630996   \n0.2500                           1   -14.630996   \n...                            ...          ...   \n99.7500                          1   -14.630996   \n99.8125                          1   -14.630996   \n99.8750                          1   -14.630996   \n99.9375                          1   -14.630996   \n100.0000                         1   -14.630996   \n\n                                            Production Rate  \\\n0.0000                                              10000.0   \n0.0625                                         10914.437257   \n0.1250    [<xarray.DataArray ()>\\narray(11822.523438)\\nC...   \n0.1875    [<xarray.DataArray ()>\\narray(12721.57595274)\\...   \n0.2500    [<xarray.DataArray ()>\\narray(13608.93780109)\\...   \n...                                                     ...   \n99.7500   [<xarray.DataArray ()>\\narray(nan)\\nCoordinate...   \n99.8125   [<xarray.DataArray ()>\\narray(nan)\\nCoordinate...   \n99.8750   [<xarray.DataArray ()>\\narray(nan)\\nCoordinate...   \n99.9375   [<xarray.DataArray ()>\\narray(nan)\\nCoordinate...   \n100.0000  [<xarray.DataArray ()>\\narray(nan)\\nCoordinate...   \n\n          Customer Order Rate  Change in Process Noise  \\\n0.0000                  10000                 1.463100   \n0.0625                  10000                 1.472244   \n0.1250                  10000                 1.481446   \n0.1875                  10000                 1.490705   \n0.2500                  10000                 1.500021   \n...                       ...                      ...   \n99.7500                 10000             30470.509985   \n99.8125                 10000             30660.950673   \n99.8750                 10000             30852.581615   \n99.9375                 10000             31045.410250   \n100.0000                10000             31239.444064   \n\n          Noise Correlation Time  ...  Shipment Rate[1.0]  Shipment Rate[1.2]  \\\n0.0000                        10  ...         8500.000000         9300.000000   \n0.0625                        10  ...         8539.843750         9320.343750   \n0.1250                        10  ...         8578.629150         9340.096260   \n0.1875                        10  ...         8616.384314         9359.274712   \n0.2500                        10  ...         8653.136605         9377.895791   \n...                          ...  ...                 ...                 ...   \n99.7500                       10  ...        10000.000000        10000.000000   \n99.8125                       10  ...        10000.000000        10000.000000   \n99.8750                       10  ...        10000.000000        10000.000000   \n99.9375                       10  ...        10000.000000        10000.000000   \n100.0000                      10  ...        10000.000000        10000.000000   \n\n          Shipment Rate[1.4]  Shipment Rate[1.6]  Shipment Rate[1.8]  \\\n0.0000           9700.000000         9900.000000             10000.0   \n0.0625           9709.093750         9903.093750             10000.0   \n0.1250           9717.911846         9906.091787             10000.0   \n0.1875           9726.462643         9908.997072             10000.0   \n0.2500           9734.754244         9911.812476             10000.0   \n...                      ...                 ...                 ...   \n99.7500         10000.000000        10000.000000             10000.0   \n99.8125         10000.000000        10000.000000             10000.0   \n99.8750         10000.000000        10000.000000             10000.0   \n99.9375         10000.000000        10000.000000             10000.0   \n100.0000        10000.000000        10000.000000             10000.0   \n\n          Shipment Rate[2.0]  Target Delivery Delay  \\\n0.0000               10000.0                      2   \n0.0625               10000.0                      2   \n0.1250               10000.0                      2   \n0.1875               10000.0                      2   \n0.2500               10000.0                      2   \n...                      ...                    ...   \n99.7500              10000.0                      2   \n99.8125              10000.0                      2   \n99.8750              10000.0                      2   \n99.9375              10000.0                      2   \n100.0000             10000.0                      2   \n\n          Time to Average Order Rate  WIP Adjustment Time  \\\n0.0000                             8                    2   \n0.0625                             8                    2   \n0.1250                             8                    2   \n0.1875                             8                    2   \n0.2500                             8                    2   \n...                              ...                  ...   \n99.7500                            8                    2   \n99.8125                            8                    2   \n99.8750                            8                    2   \n99.9375                            8                    2   \n100.0000                           8                    2   \n\n                                  Work in Process Inventory  \n0.0000                                              80000.0  \n0.0625                                              80000.0  \n0.1250    [<xarray.DataArray ()>\\narray(79918.43360891)\\...  \n0.1875    [<xarray.DataArray ()>\\narray(79756.01420592)\\...  \n0.2500    [<xarray.DataArray ()>\\narray(79513.61604449)\\...  \n...                                                     ...  \n99.7500   [<xarray.DataArray ()>\\narray(nan)\\nCoordinate...  \n99.8125   [<xarray.DataArray ()>\\narray(nan)\\nCoordinate...  \n99.8750   [<xarray.DataArray ()>\\narray(nan)\\nCoordinate...  \n99.9375   [<xarray.DataArray ()>\\narray(nan)\\nCoordinate...  \n100.0000  [<xarray.DataArray ()>\\narray(nan)\\nCoordinate...  \n\n[1601 rows x 85 columns]",
      "text/html": "<div>\n<style scoped>\n    .dataframe tbody tr th:only-of-type {\n        vertical-align: middle;\n    }\n\n    .dataframe tbody tr th {\n        vertical-align: top;\n    }\n\n    .dataframe thead th {\n        text-align: right;\n    }\n</style>\n<table border=\"1\" class=\"dataframe\">\n  <thead>\n    <tr style=\"text-align: right;\">\n      <th></th>\n      <th>FINAL TIME</th>\n      <th>INITIAL TIME</th>\n      <th>SAVEPER</th>\n      <th>TIME STEP</th>\n      <th>Noise Standard Deviation</th>\n      <th>White Noise</th>\n      <th>Production Rate</th>\n      <th>Customer Order Rate</th>\n      <th>Change in Process Noise</th>\n      <th>Noise Correlation Time</th>\n      <th>...</th>\n      <th>Shipment Rate[1.0]</th>\n      <th>Shipment Rate[1.2]</th>\n      <th>Shipment Rate[1.4]</th>\n      <th>Shipment Rate[1.6]</th>\n      <th>Shipment Rate[1.8]</th>\n      <th>Shipment Rate[2.0]</th>\n      <th>Target Delivery Delay</th>\n      <th>Time to Average Order Rate</th>\n      <th>WIP Adjustment Time</th>\n      <th>Work in Process Inventory</th>\n    </tr>\n  </thead>\n  <tbody>\n    <tr>\n      <th>0.0000</th>\n      <td>100</td>\n      <td>0</td>\n      <td>0.0625</td>\n      <td>0.0625</td>\n      <td>1</td>\n      <td>-14.630996</td>\n      <td>10000.0</td>\n      <td>10000</td>\n      <td>1.463100</td>\n      <td>10</td>\n      <td>...</td>\n      <td>8500.000000</td>\n      <td>9300.000000</td>\n      <td>9700.000000</td>\n      <td>9900.000000</td>\n      <td>10000.0</td>\n      <td>10000.0</td>\n      <td>2</td>\n      <td>8</td>\n      <td>2</td>\n      <td>80000.0</td>\n    </tr>\n    <tr>\n      <th>0.0625</th>\n      <td>100</td>\n      <td>0</td>\n      <td>0.0625</td>\n      <td>0.0625</td>\n      <td>1</td>\n      <td>-14.630996</td>\n      <td>10914.437257</td>\n      <td>10000</td>\n      <td>1.472244</td>\n      <td>10</td>\n      <td>...</td>\n      <td>8539.843750</td>\n      <td>9320.343750</td>\n      <td>9709.093750</td>\n      <td>9903.093750</td>\n      <td>10000.0</td>\n      <td>10000.0</td>\n      <td>2</td>\n      <td>8</td>\n      <td>2</td>\n      <td>80000.0</td>\n    </tr>\n    <tr>\n      <th>0.1250</th>\n      <td>100</td>\n      <td>0</td>\n      <td>0.0625</td>\n      <td>0.0625</td>\n      <td>1</td>\n      <td>-14.630996</td>\n      <td>[&lt;xarray.DataArray ()&gt;\\narray(11822.523438)\\nC...</td>\n      <td>10000</td>\n      <td>1.481446</td>\n      <td>10</td>\n      <td>...</td>\n      <td>8578.629150</td>\n      <td>9340.096260</td>\n      <td>9717.911846</td>\n      <td>9906.091787</td>\n      <td>10000.0</td>\n      <td>10000.0</td>\n      <td>2</td>\n      <td>8</td>\n      <td>2</td>\n      <td>[&lt;xarray.DataArray ()&gt;\\narray(79918.43360891)\\...</td>\n    </tr>\n    <tr>\n      <th>0.1875</th>\n      <td>100</td>\n      <td>0</td>\n      <td>0.0625</td>\n      <td>0.0625</td>\n      <td>1</td>\n      <td>-14.630996</td>\n      <td>[&lt;xarray.DataArray ()&gt;\\narray(12721.57595274)\\...</td>\n      <td>10000</td>\n      <td>1.490705</td>\n      <td>10</td>\n      <td>...</td>\n      <td>8616.384314</td>\n      <td>9359.274712</td>\n      <td>9726.462643</td>\n      <td>9908.997072</td>\n      <td>10000.0</td>\n      <td>10000.0</td>\n      <td>2</td>\n      <td>8</td>\n      <td>2</td>\n      <td>[&lt;xarray.DataArray ()&gt;\\narray(79756.01420592)\\...</td>\n    </tr>\n    <tr>\n      <th>0.2500</th>\n      <td>100</td>\n      <td>0</td>\n      <td>0.0625</td>\n      <td>0.0625</td>\n      <td>1</td>\n      <td>-14.630996</td>\n      <td>[&lt;xarray.DataArray ()&gt;\\narray(13608.93780109)\\...</td>\n      <td>10000</td>\n      <td>1.500021</td>\n      <td>10</td>\n      <td>...</td>\n      <td>8653.136605</td>\n      <td>9377.895791</td>\n      <td>9734.754244</td>\n      <td>9911.812476</td>\n      <td>10000.0</td>\n      <td>10000.0</td>\n      <td>2</td>\n      <td>8</td>\n      <td>2</td>\n      <td>[&lt;xarray.DataArray ()&gt;\\narray(79513.61604449)\\...</td>\n    </tr>\n    <tr>\n      <th>...</th>\n      <td>...</td>\n      <td>...</td>\n      <td>...</td>\n      <td>...</td>\n      <td>...</td>\n      <td>...</td>\n      <td>...</td>\n      <td>...</td>\n      <td>...</td>\n      <td>...</td>\n      <td>...</td>\n      <td>...</td>\n      <td>...</td>\n      <td>...</td>\n      <td>...</td>\n      <td>...</td>\n      <td>...</td>\n      <td>...</td>\n      <td>...</td>\n      <td>...</td>\n      <td>...</td>\n    </tr>\n    <tr>\n      <th>99.7500</th>\n      <td>100</td>\n      <td>0</td>\n      <td>0.0625</td>\n      <td>0.0625</td>\n      <td>1</td>\n      <td>-14.630996</td>\n      <td>[&lt;xarray.DataArray ()&gt;\\narray(nan)\\nCoordinate...</td>\n      <td>10000</td>\n      <td>30470.509985</td>\n      <td>10</td>\n      <td>...</td>\n      <td>10000.000000</td>\n      <td>10000.000000</td>\n      <td>10000.000000</td>\n      <td>10000.000000</td>\n      <td>10000.0</td>\n      <td>10000.0</td>\n      <td>2</td>\n      <td>8</td>\n      <td>2</td>\n      <td>[&lt;xarray.DataArray ()&gt;\\narray(nan)\\nCoordinate...</td>\n    </tr>\n    <tr>\n      <th>99.8125</th>\n      <td>100</td>\n      <td>0</td>\n      <td>0.0625</td>\n      <td>0.0625</td>\n      <td>1</td>\n      <td>-14.630996</td>\n      <td>[&lt;xarray.DataArray ()&gt;\\narray(nan)\\nCoordinate...</td>\n      <td>10000</td>\n      <td>30660.950673</td>\n      <td>10</td>\n      <td>...</td>\n      <td>10000.000000</td>\n      <td>10000.000000</td>\n      <td>10000.000000</td>\n      <td>10000.000000</td>\n      <td>10000.0</td>\n      <td>10000.0</td>\n      <td>2</td>\n      <td>8</td>\n      <td>2</td>\n      <td>[&lt;xarray.DataArray ()&gt;\\narray(nan)\\nCoordinate...</td>\n    </tr>\n    <tr>\n      <th>99.8750</th>\n      <td>100</td>\n      <td>0</td>\n      <td>0.0625</td>\n      <td>0.0625</td>\n      <td>1</td>\n      <td>-14.630996</td>\n      <td>[&lt;xarray.DataArray ()&gt;\\narray(nan)\\nCoordinate...</td>\n      <td>10000</td>\n      <td>30852.581615</td>\n      <td>10</td>\n      <td>...</td>\n      <td>10000.000000</td>\n      <td>10000.000000</td>\n      <td>10000.000000</td>\n      <td>10000.000000</td>\n      <td>10000.0</td>\n      <td>10000.0</td>\n      <td>2</td>\n      <td>8</td>\n      <td>2</td>\n      <td>[&lt;xarray.DataArray ()&gt;\\narray(nan)\\nCoordinate...</td>\n    </tr>\n    <tr>\n      <th>99.9375</th>\n      <td>100</td>\n      <td>0</td>\n      <td>0.0625</td>\n      <td>0.0625</td>\n      <td>1</td>\n      <td>-14.630996</td>\n      <td>[&lt;xarray.DataArray ()&gt;\\narray(nan)\\nCoordinate...</td>\n      <td>10000</td>\n      <td>31045.410250</td>\n      <td>10</td>\n      <td>...</td>\n      <td>10000.000000</td>\n      <td>10000.000000</td>\n      <td>10000.000000</td>\n      <td>10000.000000</td>\n      <td>10000.0</td>\n      <td>10000.0</td>\n      <td>2</td>\n      <td>8</td>\n      <td>2</td>\n      <td>[&lt;xarray.DataArray ()&gt;\\narray(nan)\\nCoordinate...</td>\n    </tr>\n    <tr>\n      <th>100.0000</th>\n      <td>100</td>\n      <td>0</td>\n      <td>0.0625</td>\n      <td>0.0625</td>\n      <td>1</td>\n      <td>-14.630996</td>\n      <td>[&lt;xarray.DataArray ()&gt;\\narray(nan)\\nCoordinate...</td>\n      <td>10000</td>\n      <td>31239.444064</td>\n      <td>10</td>\n      <td>...</td>\n      <td>10000.000000</td>\n      <td>10000.000000</td>\n      <td>10000.000000</td>\n      <td>10000.000000</td>\n      <td>10000.0</td>\n      <td>10000.0</td>\n      <td>2</td>\n      <td>8</td>\n      <td>2</td>\n      <td>[&lt;xarray.DataArray ()&gt;\\narray(nan)\\nCoordinate...</td>\n    </tr>\n  </tbody>\n</table>\n<p>1601 rows × 85 columns</p>\n</div>"
     },
     "execution_count": 6,
     "metadata": {},
     "output_type": "execute_result"
    }
   ],
   "source": [
    "data_gen"
   ],
   "metadata": {
    "collapsed": false,
    "pycharm": {
     "name": "#%%\n"
    }
   }
  },
  {
   "cell_type": "code",
   "execution_count": 7,
   "outputs": [
    {
     "data": {
      "text/plain": "          FINAL TIME  INITIAL TIME  SAVEPER  TIME STEP  \\\n0.0000           100             0   0.0625     0.0625   \n0.0625           100             0   0.0625     0.0625   \n0.1250           100             0   0.0625     0.0625   \n0.1875           100             0   0.0625     0.0625   \n0.2500           100             0   0.0625     0.0625   \n...              ...           ...      ...        ...   \n99.7500          100             0   0.0625     0.0625   \n99.8125          100             0   0.0625     0.0625   \n99.8750          100             0   0.0625     0.0625   \n99.9375          100             0   0.0625     0.0625   \n100.0000         100             0   0.0625     0.0625   \n\n                                          Cumulative Payoff  \\\n0.0000                                                    0   \n0.0625    [<xarray.DataArray ()>\\narray(0.16464524)\\nCoo...   \n0.1250    [<xarray.DataArray ()>\\narray(0.25226031)\\nCoo...   \n0.1875    [<xarray.DataArray ()>\\narray(0.37992039)\\nCoo...   \n0.2500    [<xarray.DataArray ()>\\narray(0.38318384)\\nCoo...   \n...                                                     ...   \n99.7500   [<xarray.DataArray ()>\\narray(4.82217478)\\nCoo...   \n99.8125   [<xarray.DataArray ()>\\narray(4.82217478)\\nCoo...   \n99.8750   [<xarray.DataArray ()>\\narray(4.82217478)\\nCoo...   \n99.9375   [<xarray.DataArray ()>\\narray(4.82217478)\\nCoo...   \n100.0000  [<xarray.DataArray ()>\\narray(4.82217478)\\nCoo...   \n\n          Customer Order Rate  Min Err  Calib Payoff[0.0]  Calib Payoff[0.2]  \\\n0.0000                  10000      100       2.634324e+00           4.803557   \n0.0625                  10000      100       1.401841e+00           1.545418   \n0.1250                  10000      100       2.042561e+00           2.868525   \n0.1875                  10000      100       5.221516e-02           0.165344   \n0.2500                  10000      100       1.160966e+00           1.395247   \n...                       ...      ...                ...                ...   \n99.7500                 10000      100       1.201209e-29           1.222953   \n99.8125                 10000      100       2.912479e-31           0.645260   \n99.8750                 10000      100       6.987256e-28           0.159084   \n99.9375                 10000      100       8.022176e-27           1.863298   \n100.0000                10000      100       2.912193e-27           0.584389   \n\n          Calib Payoff[0.4]  ...  Shipment Rate[1.2]  Shipment Rate[1.4]  \\\n0.0000             4.803557  ...         9300.000000         9700.000000   \n0.0625             1.545418  ...         9320.343750         9709.093750   \n0.1250             2.868525  ...         9340.096260         9717.911846   \n0.1875             0.165344  ...         9359.274712         9726.462643   \n0.2500             1.395247  ...         9377.895791         9734.754244   \n...                     ...  ...                 ...                 ...   \n99.7500            1.222953  ...        10000.000000        10000.000000   \n99.8125            0.645260  ...        10000.000000        10000.000000   \n99.8750            0.159084  ...        10000.000000        10000.000000   \n99.9375            1.863298  ...        10000.000000        10000.000000   \n100.0000           0.584389  ...        10000.000000        10000.000000   \n\n          Shipment Rate[1.6]  Shipment Rate[1.8]  Shipment Rate[2.0]  \\\n0.0000           9900.000000             10000.0             10000.0   \n0.0625           9903.093750             10000.0             10000.0   \n0.1250           9906.091787             10000.0             10000.0   \n0.1875           9908.997072             10000.0             10000.0   \n0.2500           9911.812476             10000.0             10000.0   \n...                      ...                 ...                 ...   \n99.7500         10000.000000             10000.0             10000.0   \n99.8125         10000.000000             10000.0             10000.0   \n99.8750         10000.000000             10000.0             10000.0   \n99.9375         10000.000000             10000.0             10000.0   \n100.0000        10000.000000             10000.0             10000.0   \n\n          Target Delivery Delay  Time to Average Order Rate  White Noise  \\\n0.0000                        2                           8    12.421211   \n0.0625                        2                           8    12.421211   \n0.1250                        2                           8    12.421211   \n0.1875                        2                           8    12.421211   \n0.2500                        2                           8    12.421211   \n...                         ...                         ...          ...   \n99.7500                       2                           8    12.421211   \n99.8125                       2                           8    12.421211   \n99.8750                       2                           8    12.421211   \n99.9375                       2                           8    12.421211   \n100.0000                      2                           8    12.421211   \n\n          WIP Adjustment Time  \\\n0.0000                      2   \n0.0625                      2   \n0.1250                      2   \n0.1875                      2   \n0.2500                      2   \n...                       ...   \n99.7500                     2   \n99.8125                     2   \n99.8750                     2   \n99.9375                     2   \n100.0000                    2   \n\n                                  Work in Process Inventory  \n0.0000                                              80000.0  \n0.0625                                              80000.0  \n0.1250    [<xarray.DataArray ()>\\narray(80024.10629318)\\...  \n0.1875    [<xarray.DataArray ()>\\narray(80073.60513861)\\...  \n0.2500    [<xarray.DataArray ()>\\narray(80149.78684785)\\...  \n...                                                     ...  \n99.7500   [<xarray.DataArray ()>\\narray(94666.69600648)\\...  \n99.8125   [<xarray.DataArray ()>\\narray(94666.69600648)\\...  \n99.8750   [<xarray.DataArray ()>\\narray(94666.69600648)\\...  \n99.9375   [<xarray.DataArray ()>\\narray(94666.69600648)\\...  \n100.0000  [<xarray.DataArray ()>\\narray(94666.69600648)\\...  \n\n[1601 rows x 111 columns]",
      "text/html": "<div>\n<style scoped>\n    .dataframe tbody tr th:only-of-type {\n        vertical-align: middle;\n    }\n\n    .dataframe tbody tr th {\n        vertical-align: top;\n    }\n\n    .dataframe thead th {\n        text-align: right;\n    }\n</style>\n<table border=\"1\" class=\"dataframe\">\n  <thead>\n    <tr style=\"text-align: right;\">\n      <th></th>\n      <th>FINAL TIME</th>\n      <th>INITIAL TIME</th>\n      <th>SAVEPER</th>\n      <th>TIME STEP</th>\n      <th>Cumulative Payoff</th>\n      <th>Customer Order Rate</th>\n      <th>Min Err</th>\n      <th>Calib Payoff[0.0]</th>\n      <th>Calib Payoff[0.2]</th>\n      <th>Calib Payoff[0.4]</th>\n      <th>...</th>\n      <th>Shipment Rate[1.2]</th>\n      <th>Shipment Rate[1.4]</th>\n      <th>Shipment Rate[1.6]</th>\n      <th>Shipment Rate[1.8]</th>\n      <th>Shipment Rate[2.0]</th>\n      <th>Target Delivery Delay</th>\n      <th>Time to Average Order Rate</th>\n      <th>White Noise</th>\n      <th>WIP Adjustment Time</th>\n      <th>Work in Process Inventory</th>\n    </tr>\n  </thead>\n  <tbody>\n    <tr>\n      <th>0.0000</th>\n      <td>100</td>\n      <td>0</td>\n      <td>0.0625</td>\n      <td>0.0625</td>\n      <td>0</td>\n      <td>10000</td>\n      <td>100</td>\n      <td>2.634324e+00</td>\n      <td>4.803557</td>\n      <td>4.803557</td>\n      <td>...</td>\n      <td>9300.000000</td>\n      <td>9700.000000</td>\n      <td>9900.000000</td>\n      <td>10000.0</td>\n      <td>10000.0</td>\n      <td>2</td>\n      <td>8</td>\n      <td>12.421211</td>\n      <td>2</td>\n      <td>80000.0</td>\n    </tr>\n    <tr>\n      <th>0.0625</th>\n      <td>100</td>\n      <td>0</td>\n      <td>0.0625</td>\n      <td>0.0625</td>\n      <td>[&lt;xarray.DataArray ()&gt;\\narray(0.16464524)\\nCoo...</td>\n      <td>10000</td>\n      <td>100</td>\n      <td>1.401841e+00</td>\n      <td>1.545418</td>\n      <td>1.545418</td>\n      <td>...</td>\n      <td>9320.343750</td>\n      <td>9709.093750</td>\n      <td>9903.093750</td>\n      <td>10000.0</td>\n      <td>10000.0</td>\n      <td>2</td>\n      <td>8</td>\n      <td>12.421211</td>\n      <td>2</td>\n      <td>80000.0</td>\n    </tr>\n    <tr>\n      <th>0.1250</th>\n      <td>100</td>\n      <td>0</td>\n      <td>0.0625</td>\n      <td>0.0625</td>\n      <td>[&lt;xarray.DataArray ()&gt;\\narray(0.25226031)\\nCoo...</td>\n      <td>10000</td>\n      <td>100</td>\n      <td>2.042561e+00</td>\n      <td>2.868525</td>\n      <td>2.868525</td>\n      <td>...</td>\n      <td>9340.096260</td>\n      <td>9717.911846</td>\n      <td>9906.091787</td>\n      <td>10000.0</td>\n      <td>10000.0</td>\n      <td>2</td>\n      <td>8</td>\n      <td>12.421211</td>\n      <td>2</td>\n      <td>[&lt;xarray.DataArray ()&gt;\\narray(80024.10629318)\\...</td>\n    </tr>\n    <tr>\n      <th>0.1875</th>\n      <td>100</td>\n      <td>0</td>\n      <td>0.0625</td>\n      <td>0.0625</td>\n      <td>[&lt;xarray.DataArray ()&gt;\\narray(0.37992039)\\nCoo...</td>\n      <td>10000</td>\n      <td>100</td>\n      <td>5.221516e-02</td>\n      <td>0.165344</td>\n      <td>0.165344</td>\n      <td>...</td>\n      <td>9359.274712</td>\n      <td>9726.462643</td>\n      <td>9908.997072</td>\n      <td>10000.0</td>\n      <td>10000.0</td>\n      <td>2</td>\n      <td>8</td>\n      <td>12.421211</td>\n      <td>2</td>\n      <td>[&lt;xarray.DataArray ()&gt;\\narray(80073.60513861)\\...</td>\n    </tr>\n    <tr>\n      <th>0.2500</th>\n      <td>100</td>\n      <td>0</td>\n      <td>0.0625</td>\n      <td>0.0625</td>\n      <td>[&lt;xarray.DataArray ()&gt;\\narray(0.38318384)\\nCoo...</td>\n      <td>10000</td>\n      <td>100</td>\n      <td>1.160966e+00</td>\n      <td>1.395247</td>\n      <td>1.395247</td>\n      <td>...</td>\n      <td>9377.895791</td>\n      <td>9734.754244</td>\n      <td>9911.812476</td>\n      <td>10000.0</td>\n      <td>10000.0</td>\n      <td>2</td>\n      <td>8</td>\n      <td>12.421211</td>\n      <td>2</td>\n      <td>[&lt;xarray.DataArray ()&gt;\\narray(80149.78684785)\\...</td>\n    </tr>\n    <tr>\n      <th>...</th>\n      <td>...</td>\n      <td>...</td>\n      <td>...</td>\n      <td>...</td>\n      <td>...</td>\n      <td>...</td>\n      <td>...</td>\n      <td>...</td>\n      <td>...</td>\n      <td>...</td>\n      <td>...</td>\n      <td>...</td>\n      <td>...</td>\n      <td>...</td>\n      <td>...</td>\n      <td>...</td>\n      <td>...</td>\n      <td>...</td>\n      <td>...</td>\n      <td>...</td>\n      <td>...</td>\n    </tr>\n    <tr>\n      <th>99.7500</th>\n      <td>100</td>\n      <td>0</td>\n      <td>0.0625</td>\n      <td>0.0625</td>\n      <td>[&lt;xarray.DataArray ()&gt;\\narray(4.82217478)\\nCoo...</td>\n      <td>10000</td>\n      <td>100</td>\n      <td>1.201209e-29</td>\n      <td>1.222953</td>\n      <td>1.222953</td>\n      <td>...</td>\n      <td>10000.000000</td>\n      <td>10000.000000</td>\n      <td>10000.000000</td>\n      <td>10000.0</td>\n      <td>10000.0</td>\n      <td>2</td>\n      <td>8</td>\n      <td>12.421211</td>\n      <td>2</td>\n      <td>[&lt;xarray.DataArray ()&gt;\\narray(94666.69600648)\\...</td>\n    </tr>\n    <tr>\n      <th>99.8125</th>\n      <td>100</td>\n      <td>0</td>\n      <td>0.0625</td>\n      <td>0.0625</td>\n      <td>[&lt;xarray.DataArray ()&gt;\\narray(4.82217478)\\nCoo...</td>\n      <td>10000</td>\n      <td>100</td>\n      <td>2.912479e-31</td>\n      <td>0.645260</td>\n      <td>0.645260</td>\n      <td>...</td>\n      <td>10000.000000</td>\n      <td>10000.000000</td>\n      <td>10000.000000</td>\n      <td>10000.0</td>\n      <td>10000.0</td>\n      <td>2</td>\n      <td>8</td>\n      <td>12.421211</td>\n      <td>2</td>\n      <td>[&lt;xarray.DataArray ()&gt;\\narray(94666.69600648)\\...</td>\n    </tr>\n    <tr>\n      <th>99.8750</th>\n      <td>100</td>\n      <td>0</td>\n      <td>0.0625</td>\n      <td>0.0625</td>\n      <td>[&lt;xarray.DataArray ()&gt;\\narray(4.82217478)\\nCoo...</td>\n      <td>10000</td>\n      <td>100</td>\n      <td>6.987256e-28</td>\n      <td>0.159084</td>\n      <td>0.159084</td>\n      <td>...</td>\n      <td>10000.000000</td>\n      <td>10000.000000</td>\n      <td>10000.000000</td>\n      <td>10000.0</td>\n      <td>10000.0</td>\n      <td>2</td>\n      <td>8</td>\n      <td>12.421211</td>\n      <td>2</td>\n      <td>[&lt;xarray.DataArray ()&gt;\\narray(94666.69600648)\\...</td>\n    </tr>\n    <tr>\n      <th>99.9375</th>\n      <td>100</td>\n      <td>0</td>\n      <td>0.0625</td>\n      <td>0.0625</td>\n      <td>[&lt;xarray.DataArray ()&gt;\\narray(4.82217478)\\nCoo...</td>\n      <td>10000</td>\n      <td>100</td>\n      <td>8.022176e-27</td>\n      <td>1.863298</td>\n      <td>1.863298</td>\n      <td>...</td>\n      <td>10000.000000</td>\n      <td>10000.000000</td>\n      <td>10000.000000</td>\n      <td>10000.0</td>\n      <td>10000.0</td>\n      <td>2</td>\n      <td>8</td>\n      <td>12.421211</td>\n      <td>2</td>\n      <td>[&lt;xarray.DataArray ()&gt;\\narray(94666.69600648)\\...</td>\n    </tr>\n    <tr>\n      <th>100.0000</th>\n      <td>100</td>\n      <td>0</td>\n      <td>0.0625</td>\n      <td>0.0625</td>\n      <td>[&lt;xarray.DataArray ()&gt;\\narray(4.82217478)\\nCoo...</td>\n      <td>10000</td>\n      <td>100</td>\n      <td>2.912193e-27</td>\n      <td>0.584389</td>\n      <td>0.584389</td>\n      <td>...</td>\n      <td>10000.000000</td>\n      <td>10000.000000</td>\n      <td>10000.000000</td>\n      <td>10000.0</td>\n      <td>10000.0</td>\n      <td>2</td>\n      <td>8</td>\n      <td>12.421211</td>\n      <td>2</td>\n      <td>[&lt;xarray.DataArray ()&gt;\\narray(94666.69600648)\\...</td>\n    </tr>\n  </tbody>\n</table>\n<p>1601 rows × 111 columns</p>\n</div>"
     },
     "execution_count": 7,
     "metadata": {},
     "output_type": "execute_result"
    }
   ],
   "source": [
    "data_est"
   ],
   "metadata": {
    "collapsed": false,
    "pycharm": {
     "name": "#%%\n"
    }
   }
  },
  {
   "cell_type": "markdown",
   "source": [
    "# Driving Data import"
   ],
   "metadata": {
    "collapsed": false,
    "pycharm": {
     "name": "#%% md\n"
    }
   }
  },
  {
   "cell_type": "code",
   "execution_count": 5,
   "outputs": [],
   "source": [
    "customer_order_rate = pd.read_csv('data/example_retail_sales.csv')"
   ],
   "metadata": {
    "collapsed": false,
    "pycharm": {
     "name": "#%%\n"
    }
   }
  },
  {
   "cell_type": "code",
   "execution_count": null,
   "outputs": [],
   "source": [],
   "metadata": {
    "collapsed": false,
    "pycharm": {
     "name": "#%%\n"
    }
   }
  }
 ],
 "metadata": {
  "kernelspec": {
   "display_name": "Python 3 (ipykernel)",
   "language": "python",
   "name": "python3"
  },
  "language_info": {
   "codemirror_mode": {
    "name": "ipython",
    "version": 3
   },
   "file_extension": ".py",
   "mimetype": "text/x-python",
   "name": "python",
   "nbconvert_exporter": "python",
   "pygments_lexer": "ipython3",
   "version": "3.9.12"
  },
  "toc": {
   "base_numbering": 1,
   "nav_menu": {},
   "number_sections": true,
   "sideBar": true,
   "skip_h1_title": false,
   "title_cell": "Table of Contents",
   "title_sidebar": "Contents",
   "toc_cell": false,
   "toc_position": {
    "height": "calc(100% - 180px)",
    "left": "10px",
    "top": "150px",
    "width": "336px"
   },
   "toc_section_display": true,
   "toc_window_display": true
  }
 },
 "nbformat": 4,
 "nbformat_minor": 5
}