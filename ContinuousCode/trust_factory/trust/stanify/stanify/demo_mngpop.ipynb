{
 "metadata": {
  "language_info": {
   "name": "python",
   "version": "3.7.12",
   "mimetype": "text/x-python",
   "codemirror_mode": {
    "name": "ipython",
    "version": 3
   },
   "pygments_lexer": "ipython3",
   "nbconvert_exporter": "python",
   "file_extension": ".py"
  },
  "kernelspec": {
   "name": "python3",
   "display_name": "Python 3 (ipykernel)",
   "language": "python"
  }
 },
 "nbformat_minor": 5,
 "nbformat": 4,
 "cells": [
  {
   "cell_type": "markdown",
   "source": [
    "# Managerial X Statistical X Computational\n",
    "\n",
    "## add your managerial expertise to coupled statisical and compuational models\n",
    "![statcomp_choice](data/image/statcomp_choice.png)\n",
    "\n",
    "![birthday](data/image/uglyposterior.png)"
   ],
   "metadata": {
    "collapsed": false,
    "pycharm": {
     "name": "#%% md\n"
    }
   }
  },
  {
   "cell_type": "markdown",
   "source": [
    "- vensim and stan is movie and novel: abstraction rate differs but both have structure and need internal consistency\n",
    "\t- Ali's comment on internal consistency\n",
    "\t- stock and flow consistency check (\"seven unsustainable financial process in America\")\n",
    "\n",
    "## 1 file consistency\n",
    ": `.mdl`, `.voc`, `.lst`, `chg_lst`, `.cin`, `.vdf` in one `.stan` file (`draws2data`, `data2draws`)\n",
    "\n",
    "## $3^{+}$ language connection\n",
    ": to stan's ecosystem on Python (`arviz`) , R (`ulam`, `brms`, `SBC`, `posterior`, `shinystan`), Julia \n",
    "\n",
    "## $\\infty$ control\n",
    ": modularized block coding (`data`, `parameter`, `model`, `generated quantities`)\n",
    "- (if time permits) one image of final goal in automated and modular programming with birthday workflow"
   ],
   "metadata": {
    "collapsed": false,
    "pycharm": {
     "name": "#%% md\n"
    }
   }
  },
  {
   "cell_type": "markdown",
   "source": [
    "Map of Vensim - Stan will be logged in [here](https://github.com/Data4DM/BayesSD/discussions/61) after verified by Hazhir and Tom."
   ],
   "metadata": {
    "collapsed": false,
    "pycharm": {
     "name": "#%% md\n"
    }
   }
  },
  {
   "cell_type": "code",
   "execution_count": null,
   "outputs": [],
   "source": [
    "!pip3 install pysd\n",
    "!pip3 install matplotlib\n",
    "!pip3 install cmdstanpy\n",
    "#if cmdstan doesn't compile, reinstall: https://discourse.mc-stan.org/t/problems-compiling-model/25170\n",
    "!install_cmdstan\n",
    "!ls -F ~/.cmdstan"
   ],
   "metadata": {
    "collapsed": false,
    "pycharm": {
     "name": "#%%\n"
    }
   }
  },
  {
   "cell_type": "code",
   "execution_count": null,
   "outputs": [],
   "source": [
    "import matplotlib\n",
    "matplotlib.use('TkAgg')\n",
    "import pandas as pd\n",
    "import numpy as np\n",
    "import cmdstanpy\n",
    "import xarray as xr\n",
    "#cmdstanpy.install_cmdstan()\n",
    "from pysd.translators.vensim.vensim_file import VensimFile\n",
    "from stanify.calibrator.draws_data_mapper import  draws2data, data2draws\n",
    "from stanify.builders.stan_model import StanVensimModel\n",
    "from stanify.calibrator.visualizer import prior_pred_check, posterior_check\n",
    "\n",
    "# generator with process noise\n",
    "# equations from vensim\n",
    "vf = VensimFile('vensim_models/prey_predator/prey_predator.mdl')\n",
    "vf.parse()\n",
    "structural_assumption = vf.get_abstract_model()"
   ],
   "metadata": {
    "collapsed": false,
    "pycharm": {
     "name": "#%%\n",
     "is_executing": true
    }
   }
  },
  {
   "cell_type": "markdown",
   "source": [
    "Setting and numeric assumptions"
   ],
   "metadata": {
    "collapsed": false,
    "pycharm": {
     "name": "#%% md\n"
    }
   }
  },
  {
   "cell_type": "code",
   "execution_count": null,
   "outputs": [],
   "source": [
    "# data for stan blocks\n",
    "setting_assumption = {\n",
    "    \"est_param\" : (\"alpha\", \"beta\", \"gamma\", \"delta\"),\n",
    "    \"driving_vector_names\" : (\"process_noise_uniform_driving\"),\n",
    "    \"target_simulated_vector_names\" : (\"prey\", \"predator\"),\n",
    "    \"model_name\": \"prey_predator_200n_t\",\n",
    "}\n",
    "\n",
    "n_t = 200\n",
    "numeric_data_assumption = {\n",
    "    \"n_t\":n_t,\n",
    "    \"time_step\": .03,\n",
    "    \"process_noise_uniform_driving\": np.random.uniform(low=-.5, high=.5, size=n_t),\n",
    "    'process_noise_scale': 0.1\n",
    "}\n",
    "for key in setting_assumption['target_simulated_vector_names']:\n",
    "    numeric_data_assumption[f\"{key}_obs\"] = [0]*n_t"
   ],
   "metadata": {
    "collapsed": false,
    "pycharm": {
     "name": "#%%\n"
    }
   }
  },
  {
   "cell_type": "markdown",
   "source": [
    "Define model and prior"
   ],
   "metadata": {
    "collapsed": false,
    "pycharm": {
     "name": "#%% md\n"
    }
   }
  },
  {
   "cell_type": "code",
   "execution_count": null,
   "outputs": [],
   "source": [
    "model = StanVensimModel(structural_assumption)\n",
    "model.set_numeric(numeric_data_assumption)\n",
    "model.set_setting(**setting_assumption)\n",
    "\n",
    "# parameter setting for good posterior space \n",
    "model.set_prior(\"alpha\", \"normal\", 0.8, 0.08, lower = 0)\n",
    "model.set_prior(\"beta\", \"normal\", 0.05, 0.005, lower = 0)\n",
    "model.set_prior(\"delta\", \"normal\", 0.05, 0.005, lower = 0)\n",
    "model.set_prior(\"gamma\", \"normal\", 0.8, 0.08, lower = 0)\n",
    "\n",
    "model.set_prior(\"m_noise_scale\", \"normal\", 0.5, 0.05, lower = 0)\n",
    "\n",
    "for key in setting_assumption['target_simulated_vector_names']:\n",
    "    model.set_prior(f\"{key}_obs\", \"normal\", f\"{key}\", \"m_noise_scale\")\n",
    "\n",
    "model.build_stan_functions()"
   ],
   "metadata": {
    "collapsed": false,
    "pycharm": {
     "name": "#%%\n"
    }
   }
  },
  {
   "cell_type": "markdown",
   "source": [
    "Generate"
   ],
   "metadata": {
    "collapsed": false,
    "pycharm": {
     "name": "#%% md\n"
    }
   }
  },
  {
   "cell_type": "code",
   "execution_count": null,
   "outputs": [],
   "source": [
    "model.build_stan_functions()\n",
    "#obs_xr = draws2data(model, numeric_data_assumption, iter_sampling = S) # compile + store data; for second run, you may only run the next line\n",
    "obs_xr = xr.open_dataset(f\"data/{setting_assumption['model_name']}/generator.nc\")\n",
    "\n",
    "obs_dict = {k: v.values.flatten() for (k,v) in obs_xr[['prey_obs','predator_obs']].items()}\n",
    "\n",
    "prior_pred_check(setting_assumption)"
   ],
   "metadata": {
    "collapsed": false,
    "pycharm": {
     "name": "#%%\n"
    }
   }
  },
  {
   "cell_type": "markdown",
   "source": [
    "Estimate with process noise turned off"
   ],
   "metadata": {
    "collapsed": false,
    "pycharm": {
     "name": "#%% md\n"
    }
   }
  },
  {
   "cell_type": "code",
   "execution_count": null,
   "outputs": [],
   "source": [
    "numeric_data_assumption[\"process_noise_scale\"] = 0.0"
   ],
   "metadata": {
    "collapsed": false,
    "pycharm": {
     "name": "#%%\n"
    }
   }
  },
  {
   "cell_type": "markdown",
   "source": [
    "Numeric value from generate step above is passed on for estimation"
   ],
   "metadata": {
    "collapsed": false,
    "pycharm": {
     "name": "#%% md\n"
    }
   }
  },
  {
   "cell_type": "code",
   "execution_count": null,
   "outputs": [],
   "source": [
    "for key, value in obs_dict.items():\n",
    "    numeric_data_assumption[key] = value\n",
    "\n",
    "model.update_numeric({'prey_obs': obs_dict['prey_obs'], 'predator_obs': obs_dict['predator_obs'],'process_noise_scale': 0.0 })"
   ],
   "metadata": {
    "collapsed": false,
    "pycharm": {
     "name": "#%%\n"
    }
   }
  },
  {
   "cell_type": "markdown",
   "source": [
    "Estimate!"
   ],
   "metadata": {
    "collapsed": false,
    "pycharm": {
     "name": "#%% md\n"
    }
   }
  },
  {
   "cell_type": "code",
   "execution_count": null,
   "outputs": [],
   "source": [
    "#posterior = data2draws(model, numeric_data_assumption, chains = 4, iter_sampling = 1000)\n",
    "posterior = xr.open_dataset(f\"data/{setting_assumption['model_name']}/estimator.nc\")\n",
    "\n",
    "posterior_check(setting_assumption)"
   ],
   "metadata": {
    "collapsed": false,
    "pycharm": {
     "name": "#%%\n"
    }
   }
  },
  {
   "cell_type": "markdown",
   "source": [
    "In the end, from SM loglik, we can choose the importance of each dataset (total of S).\n"
   ],
   "metadata": {
    "collapsed": false,
    "pycharm": {
     "name": "#%% md\n"
    }
   }
  },
  {
   "cell_type": "markdown",
   "source": [
    "Note\n",
    "1. measurement noise is handled outside vensim by automatically adding normal\n",
    "\n",
    "Coming next week possibly!\n",
    "1. loglikehood-based diagnostic\n",
    "2. extend one to many draws from prior dististribution allowed (S = 1 to many)"
   ],
   "metadata": {
    "collapsed": false,
    "pycharm": {
     "name": "#%% md\n"
    }
   }
  },
  {
   "cell_type": "markdown",
   "source": [
    "If time left > 1, allows me to introduce modularized stan:\n",
    "\n",
    "## Birthday workflow\n",
    "new additions are qualitatively so clear improvements that there is no need for quantitative model comparison whether the additions are significant and there is no danger of overfitting\n",
    "\n",
    "![birthday](data/image/birthday.png)\n",
    "\n",
    "## Drawing maps of model space with modular stan\n",
    "\n",
    "[demo](http://ryanbe.me/), [explanation](https://statmodeling.stat.columbia.edu/2021/11/19/drawing-maps-of-model-space-with-modular-stan/), [code](https://github.com/rybern/mstan)\n",
    "![mstan](data/image/mstan.png)"
   ],
   "metadata": {
    "collapsed": false,
    "pycharm": {
     "name": "#%% md\n"
    }
   }
  },
  {
   "cell_type": "code",
   "execution_count": null,
   "outputs": [],
   "source": [],
   "metadata": {
    "collapsed": false,
    "pycharm": {
     "name": "#%%\n"
    }
   }
  }
 ]
}